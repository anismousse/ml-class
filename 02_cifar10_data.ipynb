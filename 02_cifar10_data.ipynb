{
  "nbformat": 4,
  "nbformat_minor": 0,
  "metadata": {
    "colab": {
      "name": "02_cifar10_data.ipynb",
      "provenance": [],
      "include_colab_link": true
    },
    "kernelspec": {
      "name": "python3",
      "display_name": "Python 3"
    }
  },
  "cells": [
    {
      "cell_type": "markdown",
      "metadata": {
        "id": "view-in-github",
        "colab_type": "text"
      },
      "source": [
        "<a href=\"https://colab.research.google.com/github/anismousse/ml-class/blob/master/02_cifar10_data.ipynb\" target=\"_parent\"><img src=\"https://colab.research.google.com/assets/colab-badge.svg\" alt=\"Open In Colab\"/></a>"
      ]
    },
    {
      "cell_type": "code",
      "metadata": {
        "id": "5dPHb6VwnwzK",
        "colab_type": "code",
        "colab": {
          "base_uri": "https://localhost:8080/",
          "height": 485
        },
        "outputId": "94d31672-3315-4c19-86dc-d695e8fa54c9"
      },
      "source": [
        "!pip install wandb"
      ],
      "execution_count": 1,
      "outputs": [
        {
          "output_type": "stream",
          "text": [
            "Requirement already satisfied: wandb in /usr/local/lib/python3.6/dist-packages (0.8.12)\n",
            "Requirement already satisfied: shortuuid>=0.5.0 in /usr/local/lib/python3.6/dist-packages (from wandb) (0.5.0)\n",
            "Requirement already satisfied: sentry-sdk>=0.4.0 in /usr/local/lib/python3.6/dist-packages (from wandb) (0.12.2)\n",
            "Requirement already satisfied: subprocess32>=3.5.3 in /usr/local/lib/python3.6/dist-packages (from wandb) (3.5.4)\n",
            "Requirement already satisfied: Click>=7.0 in /usr/local/lib/python3.6/dist-packages (from wandb) (7.0)\n",
            "Requirement already satisfied: watchdog>=0.8.3 in /usr/local/lib/python3.6/dist-packages (from wandb) (0.9.0)\n",
            "Requirement already satisfied: requests>=2.0.0 in /usr/local/lib/python3.6/dist-packages (from wandb) (2.21.0)\n",
            "Requirement already satisfied: python-dateutil>=2.6.1 in /usr/local/lib/python3.6/dist-packages (from wandb) (2.8.0)\n",
            "Requirement already satisfied: GitPython>=1.0.0 in /usr/local/lib/python3.6/dist-packages (from wandb) (3.0.2)\n",
            "Requirement already satisfied: nvidia-ml-py3>=7.352.0 in /usr/local/lib/python3.6/dist-packages (from wandb) (7.352.0)\n",
            "Requirement already satisfied: six>=1.10.0 in /usr/local/lib/python3.6/dist-packages (from wandb) (1.12.0)\n",
            "Requirement already satisfied: psutil>=5.0.0 in /usr/local/lib/python3.6/dist-packages (from wandb) (5.4.8)\n",
            "Requirement already satisfied: gql>=0.1.0 in /usr/local/lib/python3.6/dist-packages (from wandb) (0.1.0)\n",
            "Requirement already satisfied: docker-pycreds>=0.4.0 in /usr/local/lib/python3.6/dist-packages (from wandb) (0.4.0)\n",
            "Requirement already satisfied: configparser>=3.8.1 in /usr/local/lib/python3.6/dist-packages (from wandb) (4.0.2)\n",
            "Requirement already satisfied: certifi in /usr/local/lib/python3.6/dist-packages (from sentry-sdk>=0.4.0->wandb) (2019.6.16)\n",
            "Requirement already satisfied: urllib3>=1.9 in /usr/local/lib/python3.6/dist-packages (from sentry-sdk>=0.4.0->wandb) (1.24.3)\n",
            "Requirement already satisfied: argh>=0.24.1 in /usr/local/lib/python3.6/dist-packages (from watchdog>=0.8.3->wandb) (0.26.2)\n",
            "Requirement already satisfied: pathtools>=0.1.1 in /usr/local/lib/python3.6/dist-packages (from watchdog>=0.8.3->wandb) (0.1.2)\n",
            "Requirement already satisfied: PyYAML>=3.10 in /usr/local/lib/python3.6/dist-packages (from watchdog>=0.8.3->wandb) (3.13)\n",
            "Requirement already satisfied: chardet<3.1.0,>=3.0.2 in /usr/local/lib/python3.6/dist-packages (from requests>=2.0.0->wandb) (3.0.4)\n",
            "Requirement already satisfied: idna<2.9,>=2.5 in /usr/local/lib/python3.6/dist-packages (from requests>=2.0.0->wandb) (2.8)\n",
            "Requirement already satisfied: gitdb2>=2.0.0 in /usr/local/lib/python3.6/dist-packages (from GitPython>=1.0.0->wandb) (2.0.5)\n",
            "Requirement already satisfied: graphql-core>=0.5.0 in /usr/local/lib/python3.6/dist-packages (from gql>=0.1.0->wandb) (2.2.1)\n",
            "Requirement already satisfied: promise>=0.4.0 in /usr/local/lib/python3.6/dist-packages (from gql>=0.1.0->wandb) (2.2.1)\n",
            "Requirement already satisfied: smmap2>=2.0.0 in /usr/local/lib/python3.6/dist-packages (from gitdb2>=2.0.0->GitPython>=1.0.0->wandb) (2.0.5)\n",
            "Requirement already satisfied: rx<3,>=1.6 in /usr/local/lib/python3.6/dist-packages (from graphql-core>=0.5.0->gql>=0.1.0->wandb) (1.6.1)\n"
          ],
          "name": "stdout"
        }
      ]
    },
    {
      "cell_type": "markdown",
      "metadata": {
        "id": "m_BBqXXWoScT",
        "colab_type": "text"
      },
      "source": [
        "# First try \n",
        "basic sequential network"
      ]
    },
    {
      "cell_type": "code",
      "metadata": {
        "id": "neqdoZVSn-fy",
        "colab_type": "code",
        "colab": {
          "base_uri": "https://localhost:8080/",
          "height": 609
        },
        "outputId": "76b866d9-2cc3-43e9-d95e-2e64b2a76eb6"
      },
      "source": [
        "import tensorflow as tf\n",
        "import wandb\n",
        "\n",
        "wandb.init()\n",
        "\n",
        "config = wandb.config\n",
        "config.batch_size = 128\n",
        "config.epochs = 10\n",
        "config.learn_rate = 0.001\n",
        "\n",
        "class_names = ['airplane', 'automobile', 'bird', 'cat', 'deer',\n",
        "               'dog', 'frog', 'horse', 'ship', 'truck']\n",
        "num_classes = len(class_names)\n",
        "\n",
        "(X_train, y_train), (X_test, y_test) = tf.keras.datasets.cifar10.load_data()\n",
        "\n",
        "X_train = X_train.astype('float32') / 255.\n",
        "X_test = X_test.astype('float32') / 255. # 255 is coming from RGB\n",
        "\n",
        "# Convert class vectors to binary class matrices.\n",
        "y_train = tf.keras.utils.to_categorical(y_train, num_classes)\n",
        "y_test = tf.keras.utils.to_categorical(y_test, num_classes)\n",
        "\n",
        "model = tf.keras.models.Sequential()\n",
        "model.add(tf.keras.layers.Flatten(input_shape=X_train.shape[1:])) # shaping in ne line each images this is a deterministique leyaer nothing happen here in term of learning\n",
        "model.add(tf.keras.layers.Dense(100 , activation='relu')) # this is retriving 100 number between 0 and 1\n",
        "model.add(tf.keras.layers.Dense(num_classes , activation='softmax')) # here we do have or this case 10 nurons\n",
        "# until this point we do have 3073- free paramaters= 32*32*3*10 +10(biaises)\n",
        "model.compile(loss='categorical_crossentropy',\n",
        "              optimizer=tf.keras.optimizers.Adam(config.learn_rate),\n",
        "              metrics=['accuracy'])\n",
        "# log the number of total parameters\n",
        "config.total_params = model.count_params()\n",
        "print(\"Total params: \", config.total_params)\n",
        "model.fit(X_train, y_train, epochs=10, batch_size=128, validation_data=(X_test, y_test),\n",
        "          callbacks=[wandb.keras.WandbCallback(data_type=\"image\", labels=class_names, save_model=False)])\n"
      ],
      "execution_count": 2,
      "outputs": [
        {
          "output_type": "display_data",
          "data": {
            "application/javascript": [
              "\n",
              "        window._wandbApiKey = new Promise((resolve, reject) => {\n",
              "            function loadScript(url) {\n",
              "            return new Promise(function(resolve, reject) {\n",
              "                let newScript = document.createElement(\"script\");\n",
              "                newScript.onerror = reject;\n",
              "                newScript.onload = resolve;\n",
              "                document.body.appendChild(newScript);\n",
              "                newScript.src = url;\n",
              "            });\n",
              "            }\n",
              "            loadScript(\"https://cdn.jsdelivr.net/npm/postmate/build/postmate.min.js\").then(() => {\n",
              "            const iframe = document.createElement('iframe')\n",
              "            iframe.style.cssText = \"width:0;height:0;border:none\"\n",
              "            document.body.appendChild(iframe)\n",
              "            const handshake = new Postmate({\n",
              "                container: iframe,\n",
              "                url: 'https://app.wandb.ai/authorize'\n",
              "            });\n",
              "            const timeout = setTimeout(() => reject(\"Couldn't auto authenticate\"), 5000)\n",
              "            handshake.then(function(child) {\n",
              "                child.on('authorize', data => {\n",
              "                    clearTimeout(timeout)\n",
              "                    resolve(data)\n",
              "                });\n",
              "            });\n",
              "            })\n",
              "        });\n",
              "    "
            ],
            "text/plain": [
              "<IPython.core.display.Javascript object>"
            ]
          },
          "metadata": {
            "tags": []
          }
        },
        {
          "output_type": "stream",
          "text": [
            "wandb: ERROR Not authenticated.  Copy a key from https://app.wandb.ai/authorize\n"
          ],
          "name": "stderr"
        },
        {
          "output_type": "stream",
          "text": [
            "API Key: ··········\n"
          ],
          "name": "stdout"
        },
        {
          "output_type": "stream",
          "text": [
            "wandb: Appending key for api.wandb.ai to your netrc file: /root/.netrc\n"
          ],
          "name": "stderr"
        },
        {
          "output_type": "display_data",
          "data": {
            "text/html": [
              "\n",
              "            Notebook configured with <a href=\"https://wandb.com\" target=\"_blank\">W&B</a>. You can <a href=\"https://app.wandb.ai/anismousse/uncategorized/runs/pl17dhub\" target=\"_blank\">open</a> the run page, or call <code>%%wandb</code>\n",
              "            in a cell containing your training loop to display live results.  Learn more in our <a href=\"https://docs.wandb.com/docs/integrations/jupyter.html\" target=\"_blank\">docs</a>.\n",
              "        "
            ],
            "text/plain": [
              "<IPython.core.display.HTML object>"
            ]
          },
          "metadata": {
            "tags": []
          }
        },
        {
          "output_type": "stream",
          "text": [
            "Downloading data from https://www.cs.toronto.edu/~kriz/cifar-10-python.tar.gz\n",
            "170500096/170498071 [==============================] - 4s 0us/step\n",
            "WARNING:tensorflow:From /usr/local/lib/python3.6/dist-packages/tensorflow/python/ops/init_ops.py:1251: calling VarianceScaling.__init__ (from tensorflow.python.ops.init_ops) with dtype is deprecated and will be removed in a future version.\n",
            "Instructions for updating:\n",
            "Call initializer instance with the dtype argument instead of passing it to the constructor\n",
            "Total params:  308310\n",
            "Train on 50000 samples, validate on 10000 samples\n",
            "Epoch 1/10\n",
            "50000/50000 [==============================] - 5s 93us/sample - loss: 1.9219 - acc: 0.3148 - val_loss: 1.8093 - val_acc: 0.3535\n",
            "Epoch 2/10\n",
            "50000/50000 [==============================] - 4s 83us/sample - loss: 1.7743 - acc: 0.3745 - val_loss: 1.7408 - val_acc: 0.3870\n",
            "Epoch 3/10\n",
            "50000/50000 [==============================] - 4s 80us/sample - loss: 1.7052 - acc: 0.3988 - val_loss: 1.6805 - val_acc: 0.4076\n",
            "Epoch 4/10\n",
            "50000/50000 [==============================] - 4s 85us/sample - loss: 1.6575 - acc: 0.4122 - val_loss: 1.6547 - val_acc: 0.4143\n",
            "Epoch 5/10\n",
            "50000/50000 [==============================] - 4s 81us/sample - loss: 1.6266 - acc: 0.4236 - val_loss: 1.6694 - val_acc: 0.4141\n",
            "Epoch 6/10\n",
            "50000/50000 [==============================] - 4s 82us/sample - loss: 1.5978 - acc: 0.4357 - val_loss: 1.6207 - val_acc: 0.4201\n",
            "Epoch 7/10\n",
            "50000/50000 [==============================] - 4s 82us/sample - loss: 1.5741 - acc: 0.4440 - val_loss: 1.6002 - val_acc: 0.4374\n",
            "Epoch 8/10\n",
            "50000/50000 [==============================] - 4s 82us/sample - loss: 1.5602 - acc: 0.4512 - val_loss: 1.5841 - val_acc: 0.4433\n",
            "Epoch 9/10\n",
            "50000/50000 [==============================] - 4s 84us/sample - loss: 1.5442 - acc: 0.4549 - val_loss: 1.6083 - val_acc: 0.4288\n",
            "Epoch 10/10\n",
            "50000/50000 [==============================] - 4s 81us/sample - loss: 1.5292 - acc: 0.4605 - val_loss: 1.5552 - val_acc: 0.4457\n"
          ],
          "name": "stdout"
        },
        {
          "output_type": "execute_result",
          "data": {
            "text/plain": [
              "<tensorflow.python.keras.callbacks.History at 0x7fd64b3e1ac8>"
            ]
          },
          "metadata": {
            "tags": []
          },
          "execution_count": 2
        }
      ]
    },
    {
      "cell_type": "markdown",
      "metadata": {
        "id": "-XAuOXr-pbO7",
        "colab_type": "text"
      },
      "source": [
        "# Second take\n",
        "Adding a convolution\n"
      ]
    },
    {
      "cell_type": "code",
      "metadata": {
        "id": "S49RfGa2pgfh",
        "colab_type": "code",
        "colab": {
          "base_uri": "https://localhost:8080/",
          "height": 433
        },
        "outputId": "74d666bc-a64c-4bf8-d127-6038cc63d0d2"
      },
      "source": [
        "import tensorflow as tf\n",
        "import wandb\n",
        "\n",
        "# Set Hyper-parameters\n",
        "wandb.init()\n",
        "config = wandb.config\n",
        "config.batch_size = 128\n",
        "config.epochs = 10\n",
        "config.learn_rate = 0.001\n",
        "config.dropout = 0.3\n",
        "config.dense_layer_nodes = 128\n",
        "\n",
        "# Load data\n",
        "class_names = ['airplane', 'automobile', 'bird', 'cat', 'deer',\n",
        "               'dog', 'frog', 'horse', 'ship', 'truck']\n",
        "num_classes = len(class_names)\n",
        "\n",
        "(X_train, y_train), (X_test, y_test) = tf.keras.datasets.cifar10.load_data()\n",
        "X_train = X_train.astype('float32') / 255.\n",
        "X_test = X_test.astype('float32') / 255.\n",
        "\n",
        "# Convert class vectors to binary class matrices.\n",
        "y_train = tf.keras.utils.to_categorical(y_train, num_classes)\n",
        "y_test = tf.keras.utils.to_categorical(y_test, num_classes)\n",
        "\n",
        "# Define model\n",
        "model = tf.keras.models.Sequential() #32*32*3\n",
        "model.add(tf.keras.layers.Conv2D(16, (3, 3), padding='same',\n",
        "                                 input_shape=X_train.shape[1:], activation='relu')) # 25 convolution  the output 32*32*25 // 16output image\n",
        "model.add(tf.keras.layers.MaxPooling2D(pool_size=(2, 2))) # out 16*16*25  (16 is comng for the 2^x as max pooling is a dimension rduction operation)\n",
        "model.add(tf.keras.layers.Dropout(config.dropout))\n",
        "\n",
        "model.add(tf.keras.layers.Flatten())\n",
        "model.add(tf.keras.layers.Dense(config.dense_layer_nodes, activation='relu'))\n",
        "model.add(tf.keras.layers.Dropout(config.dropout))\n",
        "model.add(tf.keras.layers.Dense(num_classes, activation='softmax'))\n",
        "model.compile(loss='categorical_crossentropy',\n",
        "              optimizer=tf.keras.optimizers.Adam(config.learn_rate),\n",
        "              metrics=['accuracy'])\n",
        "# log the number of total parameters\n",
        "config.total_params = model.count_params()\n",
        "print(\"Total params: \", config.total_params)\n",
        "\n",
        "model.fit(X_train, y_train, epochs=10, batch_size=128, validation_data=(X_test, y_test),\n",
        "          callbacks=[wandb.keras.WandbCallback(data_type=\"image\", labels=class_names, save_model=False)])\n"
      ],
      "execution_count": 3,
      "outputs": [
        {
          "output_type": "display_data",
          "data": {
            "text/html": [
              "\n",
              "            Notebook configured with <a href=\"https://wandb.com\" target=\"_blank\">W&B</a>. You can <a href=\"https://app.wandb.ai/anismousse/uncategorized/runs/i5antplh\" target=\"_blank\">open</a> the run page, or call <code>%%wandb</code>\n",
              "            in a cell containing your training loop to display live results.  Learn more in our <a href=\"https://docs.wandb.com/docs/integrations/jupyter.html\" target=\"_blank\">docs</a>.\n",
              "        "
            ],
            "text/plain": [
              "<IPython.core.display.HTML object>"
            ]
          },
          "metadata": {
            "tags": []
          }
        },
        {
          "output_type": "stream",
          "text": [
            "Total params:  526154\n",
            "Train on 50000 samples, validate on 10000 samples\n",
            "Epoch 1/10\n",
            "50000/50000 [==============================] - 32s 636us/sample - loss: 1.7816 - acc: 0.3494 - val_loss: 1.4795 - val_acc: 0.4760\n",
            "Epoch 2/10\n",
            "50000/50000 [==============================] - 31s 630us/sample - loss: 1.4979 - acc: 0.4572 - val_loss: 1.3515 - val_acc: 0.5255\n",
            "Epoch 3/10\n",
            "50000/50000 [==============================] - 31s 626us/sample - loss: 1.4122 - acc: 0.4920 - val_loss: 1.2791 - val_acc: 0.5494\n",
            "Epoch 4/10\n",
            "50000/50000 [==============================] - 31s 626us/sample - loss: 1.3540 - acc: 0.5136 - val_loss: 1.2348 - val_acc: 0.5649\n",
            "Epoch 5/10\n",
            "50000/50000 [==============================] - 31s 625us/sample - loss: 1.3136 - acc: 0.5267 - val_loss: 1.2119 - val_acc: 0.5751\n",
            "Epoch 6/10\n",
            "50000/50000 [==============================] - 31s 625us/sample - loss: 1.2801 - acc: 0.5397 - val_loss: 1.1707 - val_acc: 0.5794\n",
            "Epoch 7/10\n",
            "50000/50000 [==============================] - 31s 625us/sample - loss: 1.2536 - acc: 0.5522 - val_loss: 1.1749 - val_acc: 0.5906\n",
            "Epoch 8/10\n",
            "50000/50000 [==============================] - 31s 623us/sample - loss: 1.2245 - acc: 0.5637 - val_loss: 1.1445 - val_acc: 0.5990\n",
            "Epoch 9/10\n",
            "50000/50000 [==============================] - 31s 626us/sample - loss: 1.2041 - acc: 0.5693 - val_loss: 1.1091 - val_acc: 0.6084\n",
            "Epoch 10/10\n",
            "50000/50000 [==============================] - 31s 626us/sample - loss: 1.1819 - acc: 0.5793 - val_loss: 1.0918 - val_acc: 0.6166\n"
          ],
          "name": "stdout"
        },
        {
          "output_type": "execute_result",
          "data": {
            "text/plain": [
              "<tensorflow.python.keras.callbacks.History at 0x7fd64e43b7b8>"
            ]
          },
          "metadata": {
            "tags": []
          },
          "execution_count": 3
        }
      ]
    },
    {
      "cell_type": "markdown",
      "metadata": {
        "id": "RRU9a4STp4wd",
        "colab_type": "text"
      },
      "source": [
        "# Third take\n",
        "multiples convolution and image preprocessing"
      ]
    },
    {
      "cell_type": "code",
      "metadata": {
        "id": "YFx_bUZoqEp9",
        "colab_type": "code",
        "colab": {
          "base_uri": "https://localhost:8080/",
          "height": 208
        },
        "outputId": "28650c8e-f521-4be0-bc00-0dfcf0aa31db"
      },
      "source": [
        "import tensorflow as tf\n",
        "import wandb\n",
        "\n",
        "# Set Hyper-parameters\n",
        "wandb.init()\n",
        "config = wandb.config\n",
        "config.batch_size = 128\n",
        "config.epochs = 10\n",
        "config.learn_rate = 0.001\n",
        "config.dropout = 0.3\n",
        "config.dense_layer_nodes = 128\n",
        "\n",
        "# Load data\n",
        "class_names = ['airplane', 'automobile', 'bird', 'cat', 'deer',\n",
        "               'dog', 'frog', 'horse', 'ship', 'truck']\n",
        "num_classes = len(class_names)\n",
        "\n",
        "(X_train, y_train), (X_test, y_test) = tf.keras.datasets.cifar10.load_data()\n",
        "X_train = X_train.astype('float32') / 255.\n",
        "X_test = X_test.astype('float32') / 255.\n",
        "#print(y_train.shape)\n",
        "# Convert class vectors to binary class matrices.\n",
        "y_train = tf.keras.utils.to_categorical(y_train, num_classes)\n",
        "y_test = tf.keras.utils.to_categorical(y_test, num_classes)\n",
        "\n",
        "#print(y_train.shape)\n",
        "#exit()\n",
        "# Define model\n",
        "model = tf.keras.models.Sequential() #32*32*3\n",
        "model.add(tf.keras.layers.Conv2D(10, (3, 3), padding='same',input_shape=X_train.shape[1:], activation='relu')) \n",
        "model.add(tf.keras.layers.MaxPooling2D(pool_size=(2, 2))) \n",
        "model.add(tf.keras.layers.Dropout(0.3))\n",
        "#model.add(tf.keras.layers.Conv2D(20, (3, 3), padding='same', activation='relu')) \n",
        "#model.add(tf.keras.layers.MaxPooling2D(pool_size=(2, 2))) \n",
        "#model.add(tf.keras.layers.Dropout(0.3))\n",
        "#model.add(tf.keras.layers.Conv2D(40, (3, 3), padding='same', activation='relu')) \n",
        "#model.add(tf.keras.layers.MaxPooling2D(pool_size=(2, 2))) \n",
        "model.add(tf.keras.layers.Flatten())\n",
        "#model.add(tf.keras.layers.Dropout(0.3))\n",
        "model.add(tf.keras.layers.Dense(100, activation='relu'))\n",
        "model.add(tf.keras.layers.Dense(num_classes, activation='softmax'))\n",
        "\n",
        "model.compile(loss='categorical_crossentropy',\n",
        "              optimizer=tf.keras.optimizers.Adam(config.learn_rate),\n",
        "              metrics=['accuracy'])\n",
        "# log the number of total parameters\n",
        "config.total_params = model.count_params()\n",
        "print(\"Total params: \", config.total_params)\n",
        "\n",
        "model.fit(X_train, y_train, epochs=10, batch_size=128, validation_data=(X_test, y_test),\n",
        "          callbacks=[wandb.keras.WandbCallback(data_type=\"image\", labels=class_names, save_model=False)])\n"
      ],
      "execution_count": 0,
      "outputs": [
        {
          "output_type": "display_data",
          "data": {
            "text/html": [
              "\n",
              "            Notebook configured with <a href=\"https://wandb.com\" target=\"_blank\">W&B</a>. You can <a href=\"https://app.wandb.ai/anismousse/uncategorized/runs/hemz1jf2\" target=\"_blank\">open</a> the run page, or call <code>%%wandb</code>\n",
              "            in a cell containing your training loop to display live results.  Learn more in our <a href=\"https://docs.wandb.com/docs/integrations/jupyter.html\" target=\"_blank\">docs</a>.\n",
              "        "
            ],
            "text/plain": [
              "<IPython.core.display.HTML object>"
            ]
          },
          "metadata": {
            "tags": []
          }
        },
        {
          "output_type": "stream",
          "text": [
            "Total params:  257390\n",
            "Train on 50000 samples, validate on 10000 samples\n",
            "Epoch 1/10\n",
            "50000/50000 [==============================] - 27s 537us/sample - loss: 1.6244 - acc: 0.4212 - val_loss: 1.4225 - val_acc: 0.4851\n",
            "Epoch 2/10\n",
            "50000/50000 [==============================] - 27s 533us/sample - loss: 1.3495 - acc: 0.5210 - val_loss: 1.2841 - val_acc: 0.5445\n",
            "Epoch 3/10\n",
            "50000/50000 [==============================] - 27s 537us/sample - loss: 1.2484 - acc: 0.5597 - val_loss: 1.1930 - val_acc: 0.5805\n",
            "Epoch 4/10\n",
            " 9728/50000 [====>.........................] - ETA: 19s - loss: 1.1738 - acc: 0.5887"
          ],
          "name": "stdout"
        }
      ]
    }
  ]
}